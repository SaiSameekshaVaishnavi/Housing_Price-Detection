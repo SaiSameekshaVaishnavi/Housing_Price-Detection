{
 "cells": [
  {
   "cell_type": "code",
   "execution_count": null,
   "id": "b9dc905b-82ae-4501-8d2e-e649e95ae169",
   "metadata": {},
   "outputs": [],
   "source": [
    "import pandas as pd;\n",
    "import numpy as np;\n",
    "import matplotlib.pyplot as plt;\n",
    "import seaborn as sns;"
   ]
  },
  {
   "cell_type": "code",
   "execution_count": null,
   "id": "cef6a45b-57f5-40ab-bcd1-35ecee05ffc9",
   "metadata": {},
   "outputs": [],
   "source": [
    "data = pd.read_csv(\"housing.csv\")"
   ]
  },
  {
   "cell_type": "code",
   "execution_count": null,
   "id": "c8459b28-5d90-46c2-af32-2755ac8cc5f5",
   "metadata": {},
   "outputs": [],
   "source": [
    "data"
   ]
  },
  {
   "cell_type": "code",
   "execution_count": null,
   "id": "785ee58e-7b8c-4c23-abfd-3f34b2b2f2e8",
   "metadata": {},
   "outputs": [],
   "source": [
    "data.info();"
   ]
  },
  {
   "cell_type": "code",
   "execution_count": null,
   "id": "39a0f890-c2fe-4ac2-84db-c1dfde77ff2e",
   "metadata": {},
   "outputs": [],
   "source": [
    "data.dropna(inplace= True);"
   ]
  },
  {
   "cell_type": "code",
   "execution_count": null,
   "id": "4a7118f1-db40-47e2-8f36-62e2b7993e6c",
   "metadata": {},
   "outputs": [],
   "source": [
    "data.info();"
   ]
  },
  {
   "cell_type": "code",
   "execution_count": null,
   "id": "f19c655c-7455-4cc4-81a0-47e625840bae",
   "metadata": {},
   "outputs": [],
   "source": [
    "from sklearn.model_selection import train_test_split\n",
    "x= data.drop(['median_house_value'], axis=1);\n",
    "y= data['median_house_value']"
   ]
  },
  {
   "cell_type": "code",
   "execution_count": null,
   "id": "afbfef66-a614-4f23-8b1a-e138c573cc67",
   "metadata": {},
   "outputs": [],
   "source": [
    "data.info()"
   ]
  },
  {
   "cell_type": "code",
   "execution_count": null,
   "id": "2b44a474-f1ac-40a9-b0bb-7e1d0181a7e1",
   "metadata": {},
   "outputs": [],
   "source": [
    "x_train, x_test, y_train, y_test= train_test_split(x, y, test_size=0.2)"
   ]
  },
  {
   "cell_type": "code",
   "execution_count": null,
   "id": "434085f8-a9d5-479a-a61b-74f420f199cf",
   "metadata": {},
   "outputs": [],
   "source": [
    "train_data=x_train.join(y_train)"
   ]
  },
  {
   "cell_type": "code",
   "execution_count": null,
   "id": "a45dafbf-32fd-4320-95b4-a7276b49aab1",
   "metadata": {},
   "outputs": [],
   "source": [
    "train_data.info();"
   ]
  },
  {
   "cell_type": "code",
   "execution_count": null,
   "id": "fc954926-8492-4bc9-b054-f81f9d237448",
   "metadata": {},
   "outputs": [],
   "source": [
    "train_data.hist(figsize=(15,8));"
   ]
  },
  {
   "cell_type": "code",
   "execution_count": null,
   "id": "3e86fff2-4a38-4ebe-93f5-a5515e0dbe64",
   "metadata": {},
   "outputs": [],
   "source": [
    "train_data.columns"
   ]
  },
  {
   "cell_type": "code",
   "execution_count": null,
   "id": "d91ac22b-bdc4-4759-aa2b-ab9ec995dd6a",
   "metadata": {},
   "outputs": [],
   "source": [
    "plt.figure(figsize=(15,8));\n",
    "sns.heatmap(train_data.corr(numeric_only=True), annot=True, cmap=\"YlGnBu\");"
   ]
  },
  {
   "cell_type": "code",
   "execution_count": null,
   "id": "b994368d-03f0-4e8d-9f8a-5535fd7995f0",
   "metadata": {},
   "outputs": [],
   "source": [
    "train_data.info()"
   ]
  },
  {
   "cell_type": "code",
   "execution_count": null,
   "id": "7b0f0d17-7d55-4432-9bff-1cb7e2be200c",
   "metadata": {},
   "outputs": [],
   "source": [
    "train_data['total_rooms']=np.log(train_data['total_rooms'] + 1);\n",
    "train_data['total_bedrooms']=np.log(train_data['total_bedrooms'] + 1);\n",
    "train_data['population']=np.log(train_data['population'] + 1);\n",
    "train_data['households']=np.log(train_data['households'] + 1);"
   ]
  },
  {
   "cell_type": "code",
   "execution_count": null,
   "id": "5b7c6846-b510-4d5e-9b62-3c7aac9065b5",
   "metadata": {},
   "outputs": [],
   "source": [
    "train_data.hist(figsize=(15,8));"
   ]
  },
  {
   "cell_type": "code",
   "execution_count": null,
   "id": "8f1fe958-ccbc-42ec-b740-35814480986c",
   "metadata": {},
   "outputs": [],
   "source": [
    "train_data.ocean_proximity.value_counts()"
   ]
  },
  {
   "cell_type": "code",
   "execution_count": null,
   "id": "d38b71a6-e53e-4964-86c5-3e8e3d9933ca",
   "metadata": {},
   "outputs": [],
   "source": [
    "#train_data=train_data.join(pd.get_dummies(train_data.ocean_proximity)).drop(['ocean_proximity'], axis=1);"
   ]
  },
  {
   "cell_type": "code",
   "execution_count": null,
   "id": "4dc11c5f-c5a3-4bd3-93bb-704f930b488a",
   "metadata": {},
   "outputs": [],
   "source": [
    "train_data"
   ]
  },
  {
   "cell_type": "code",
   "execution_count": null,
   "id": "a9c24843-dfc8-4321-bf3a-13e9893e6f20",
   "metadata": {},
   "outputs": [],
   "source": [
    "plt.figure(figsize=(15,8));\n",
    "sns.heatmap(train_data.corr(), annot=True, cmap=\"YlGnBu\");"
   ]
  },
  {
   "cell_type": "code",
   "execution_count": null,
   "id": "724ee444-1aaf-423c-afb2-675d500ebd39",
   "metadata": {},
   "outputs": [],
   "source": [
    "plt.figure(figsize=(15,8));\n",
    "sns.scatterplot(x=\"latitude\", y=\"longitude\", data=train_data, hue=\"median_house_value\", palette=\"coolwarm\");"
   ]
  },
  {
   "cell_type": "code",
   "execution_count": null,
   "id": "fba15c01-68c5-40c0-9b30-8a68326808a1",
   "metadata": {},
   "outputs": [],
   "source": [
    "train_data['bedroom_ratio']= train_data['total_bedrooms']/train_data['total_rooms'];\n",
    "train_data['household_rooms']= train_data['total_rooms']/train_data['households'];"
   ]
  },
  {
   "cell_type": "code",
   "execution_count": null,
   "id": "4013627f-7e30-417f-9773-e9f18b1461d1",
   "metadata": {},
   "outputs": [],
   "source": [
    "plt.figure(figsize=(15,8));\n",
    "sns.heatmap(train_data.corr(), annot=True, cmap=\"YlGnBu\");"
   ]
  },
  {
   "cell_type": "code",
   "execution_count": null,
   "id": "273d0f28-490b-4a39-9c47-08f01f5c872f",
   "metadata": {},
   "outputs": [],
   "source": [
    "from sklearn.linear_model import LinearRegression;\n",
    "from sklearn. preprocessing import StandardScaler;\n",
    "scaler= StandardScaler();\n",
    "x_train, y_train= train_data.drop(['median_house_value'], axis=1), train_data['median_house_value']\n",
    "x_train_s= scaler.fit_transform(x_train);\n",
    "reg=LinearRegression();\n",
    "reg.fit(x_train_s, y_train);"
   ]
  },
  {
   "cell_type": "code",
   "execution_count": null,
   "id": "c16c5029-3b9f-46fa-8210-11721dee0fa7",
   "metadata": {},
   "outputs": [],
   "source": [
    "LinearRegression();"
   ]
  },
  {
   "cell_type": "code",
   "execution_count": null,
   "id": "1d54799b-9233-469a-978d-07425311c4ee",
   "metadata": {},
   "outputs": [],
   "source": [
    "test_data = x_test.join(y_test)\n",
    "\n",
    "test_data['total_rooms'] = np.log(test_data['total_rooms'] + 1)\n",
    "test_data['total_bedrooms'] = np.log(test_data['total_bedrooms'] + 1)\n",
    "test_data['population'] = np.log(test_data['population'] + 1)\n",
    "test_data['households'] = np.log(test_data['households'] + 1)\n",
    "\n",
    "if 'ocean_proximity' in test_data.columns:\n",
    "   test_data = test_data.join(pd.get_dummies(test_data['ocean_proximity'])).drop(['ocean_proximity'], axis=1)\n",
    "\n",
    "test_data['bedroom_ratio'] = test_data['total_bedrooms'] / test_data['total_rooms']\n",
    "test_data['household_rooms'] = test_data['total_rooms'] / test_data['households']"
   ]
  },
  {
   "cell_type": "code",
   "execution_count": null,
   "id": "bbb3fec2-6b84-4ce3-98ad-53c49994787a",
   "metadata": {},
   "outputs": [],
   "source": [
    "x_test, y_test= test_data.drop(['median_house_value'], axis=1), test_data['median_house_value']"
   ]
  },
  {
   "cell_type": "code",
   "execution_count": null,
   "id": "b460fae4-7a3d-4f04-ab7e-ea0e203871d3",
   "metadata": {},
   "outputs": [],
   "source": [
    "x_test_s= scaler.transform(x_test);"
   ]
  },
  {
   "cell_type": "code",
   "execution_count": null,
   "id": "6d86a964-8b5a-40a7-bc2e-c6698e4a2a05",
   "metadata": {},
   "outputs": [],
   "source": [
    "score=reg.score(x_test_s, y_test);\n",
    "print ({score})"
   ]
  },
  {
   "cell_type": "code",
   "execution_count": null,
   "id": "e6d77048-e087-4d7b-b99e-51efbed17d0d",
   "metadata": {},
   "outputs": [],
   "source": [
    "from sklearn.ensemble import RandomForestRegressor\n",
    "forest= RandomForestRegressor()\n",
    "forest.fit(x_train, y_train);"
   ]
  },
  {
   "cell_type": "code",
   "execution_count": null,
   "id": "300772dc-e3e0-4c1a-9cd8-1ffe2423496b",
   "metadata": {},
   "outputs": [],
   "source": [
    "score=forest.score(x_test, y_test);\n",
    "print ({score})"
   ]
  },
  {
   "cell_type": "code",
   "execution_count": null,
   "id": "633c9131-96f2-48a6-ae08-172e22fcda89",
   "metadata": {},
   "outputs": [],
   "source": [
    "from sklearn.model_selection import GridSearchCV\n",
    "forest= RandomForestRegressor()\n",
    "param_grid={\n",
    "    \"n_estimators\": [3, 10, 30],\n",
    "    \"max_features\": [8, 12, 20],\n",
    "    \"min_samples_split\": [2, 4, 6, 8]\n",
    "}\n",
    "grid_search= GridSearchCV(forest, param_grid, cv=5, scoring=\"neg_mean_squared_error\",\n",
    "                          return_train_score= True);\n",
    "grid_search.fit(x_train_s, y_train);"
   ]
  },
  {
   "cell_type": "code",
   "execution_count": null,
   "id": "5fa8ae21-c8d6-45ea-8abc-c4d657e377c2",
   "metadata": {},
   "outputs": [],
   "source": [
    "best_forest= grid_search.best_estimator_"
   ]
  },
  {
   "cell_type": "code",
   "execution_count": null,
   "id": "70967a76-e0ae-4a63-936b-e9764961dc8a",
   "metadata": {},
   "outputs": [],
   "source": [
    "score= best_forest.score(x_test_s, y_test);\n",
    "print ({score})"
   ]
  }
 ],
 "metadata": {
  "kernelspec": {
   "display_name": "Python 3",
   "language": "python",
   "name": "python3"
  },
  "language_info": {
   "codemirror_mode": {
    "name": "ipython",
    "version": 3
   },
   "file_extension": ".py",
   "mimetype": "text/x-python",
   "name": "python",
   "nbconvert_exporter": "python",
   "pygments_lexer": "ipython3",
   "version": "3.10.8"
  }
 },
 "nbformat": 4,
 "nbformat_minor": 5
}
